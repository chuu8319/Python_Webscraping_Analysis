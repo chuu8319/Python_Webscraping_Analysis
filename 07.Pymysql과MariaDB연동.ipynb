{
 "cells": [
  {
   "cell_type": "code",
   "execution_count": null,
   "metadata": {},
   "outputs": [],
   "source": [
    "#!pip install pymysql"
   ]
  },
  {
   "cell_type": "code",
   "execution_count": 1,
   "metadata": {},
   "outputs": [
    {
     "name": "stdout",
     "output_type": "stream",
     "text": [
      "Name: PyMySQL\n",
      "Version: 1.1.1\n",
      "Summary: Pure Python MySQL Driver\n",
      "Home-page: \n",
      "Author: \n",
      "Author-email: Inada Naoki <songofacandy@gmail.com>, Yutaka Matsubara <yutaka.matsubara@gmail.com>\n",
      "License: MIT License\n",
      "Location: /opt/homebrew/anaconda3/lib/python3.12/site-packages\n",
      "Requires: \n",
      "Required-by: \n"
     ]
    }
   ],
   "source": [
    "!pip show pymysql"
   ]
  },
  {
   "cell_type": "code",
   "execution_count": 3,
   "metadata": {},
   "outputs": [
    {
     "data": {
      "text/plain": [
       "'\\nCREATE TABLE product (\\n    id INT UNSIGNED NOT NULL AUTO_INCREMENT,\\n    name VARCHAR(20) NOT NULL,\\n    model_num VARCHAR(10) NOT NULL,\\n    model_type VARCHAR(10) NOT NULL,\\n    PRIMARY KEY(id)\\n);\\n'"
      ]
     },
     "execution_count": 3,
     "metadata": {},
     "output_type": "execute_result"
    }
   ],
   "source": [
    "sql = \"\"\"\n",
    "CREATE TABLE product (\n",
    "    id INT UNSIGNED NOT NULL AUTO_INCREMENT,\n",
    "    name VARCHAR(20) NOT NULL,\n",
    "    model_num VARCHAR(10) NOT NULL,\n",
    "    model_type VARCHAR(10) NOT NULL,\n",
    "    PRIMARY KEY(id)\n",
    ");\n",
    "\"\"\"\n",
    "sql"
   ]
  },
  {
   "cell_type": "code",
   "execution_count": 4,
   "metadata": {},
   "outputs": [
    {
     "ename": "OperationalError",
     "evalue": "(2003, \"Can't connect to MySQL server on 'localhost' ([Errno 61] Connection refused)\")",
     "output_type": "error",
     "traceback": [
      "\u001b[0;31m---------------------------------------------------------------------------\u001b[0m",
      "\u001b[0;31mConnectionRefusedError\u001b[0m                    Traceback (most recent call last)",
      "File \u001b[0;32m/opt/homebrew/anaconda3/lib/python3.12/site-packages/pymysql/connections.py:649\u001b[0m, in \u001b[0;36mConnection.connect\u001b[0;34m(self, sock)\u001b[0m\n\u001b[1;32m    648\u001b[0m \u001b[38;5;28;01mtry\u001b[39;00m:\n\u001b[0;32m--> 649\u001b[0m     sock \u001b[38;5;241m=\u001b[39m socket\u001b[38;5;241m.\u001b[39mcreate_connection(\n\u001b[1;32m    650\u001b[0m         (\u001b[38;5;28mself\u001b[39m\u001b[38;5;241m.\u001b[39mhost, \u001b[38;5;28mself\u001b[39m\u001b[38;5;241m.\u001b[39mport), \u001b[38;5;28mself\u001b[39m\u001b[38;5;241m.\u001b[39mconnect_timeout, \u001b[38;5;241m*\u001b[39m\u001b[38;5;241m*\u001b[39mkwargs\n\u001b[1;32m    651\u001b[0m     )\n\u001b[1;32m    652\u001b[0m     \u001b[38;5;28;01mbreak\u001b[39;00m\n",
      "File \u001b[0;32m/opt/homebrew/anaconda3/lib/python3.12/socket.py:853\u001b[0m, in \u001b[0;36mcreate_connection\u001b[0;34m(address, timeout, source_address, all_errors)\u001b[0m\n\u001b[1;32m    852\u001b[0m \u001b[38;5;28;01mif\u001b[39;00m \u001b[38;5;129;01mnot\u001b[39;00m all_errors:\n\u001b[0;32m--> 853\u001b[0m     \u001b[38;5;28;01mraise\u001b[39;00m exceptions[\u001b[38;5;241m0\u001b[39m]\n\u001b[1;32m    854\u001b[0m \u001b[38;5;28;01mraise\u001b[39;00m ExceptionGroup(\u001b[38;5;124m\"\u001b[39m\u001b[38;5;124mcreate_connection failed\u001b[39m\u001b[38;5;124m\"\u001b[39m, exceptions)\n",
      "File \u001b[0;32m/opt/homebrew/anaconda3/lib/python3.12/socket.py:838\u001b[0m, in \u001b[0;36mcreate_connection\u001b[0;34m(address, timeout, source_address, all_errors)\u001b[0m\n\u001b[1;32m    837\u001b[0m     sock\u001b[38;5;241m.\u001b[39mbind(source_address)\n\u001b[0;32m--> 838\u001b[0m sock\u001b[38;5;241m.\u001b[39mconnect(sa)\n\u001b[1;32m    839\u001b[0m \u001b[38;5;66;03m# Break explicitly a reference cycle\u001b[39;00m\n",
      "\u001b[0;31mConnectionRefusedError\u001b[0m: [Errno 61] Connection refused",
      "\nDuring handling of the above exception, another exception occurred:\n",
      "\u001b[0;31mOperationalError\u001b[0m                          Traceback (most recent call last)",
      "Cell \u001b[0;32mIn[4], line 3\u001b[0m\n\u001b[1;32m      1\u001b[0m \u001b[38;5;28;01mimport\u001b[39;00m \u001b[38;5;21;01mpymysql\u001b[39;00m\n\u001b[0;32m----> 3\u001b[0m db \u001b[38;5;241m=\u001b[39m pymysql\u001b[38;5;241m.\u001b[39mconnect(host\u001b[38;5;241m=\u001b[39m\u001b[38;5;124m'\u001b[39m\u001b[38;5;124mlocalhost\u001b[39m\u001b[38;5;124m'\u001b[39m, port\u001b[38;5;241m=\u001b[39m\u001b[38;5;241m3307\u001b[39m, db\u001b[38;5;241m=\u001b[39m\u001b[38;5;124m'\u001b[39m\u001b[38;5;124mpython_db\u001b[39m\u001b[38;5;124m'\u001b[39m,\\\n\u001b[1;32m      4\u001b[0m                     user\u001b[38;5;241m=\u001b[39m\u001b[38;5;124m'\u001b[39m\u001b[38;5;124mpython\u001b[39m\u001b[38;5;124m'\u001b[39m,passwd\u001b[38;5;241m=\u001b[39m\u001b[38;5;124m'\u001b[39m\u001b[38;5;124mpython\u001b[39m\u001b[38;5;124m'\u001b[39m,charset\u001b[38;5;241m=\u001b[39m\u001b[38;5;124m'\u001b[39m\u001b[38;5;124mutf8\u001b[39m\u001b[38;5;124m'\u001b[39m)\n\u001b[1;32m      5\u001b[0m cursor \u001b[38;5;241m=\u001b[39m db\u001b[38;5;241m.\u001b[39mcursor()\n\u001b[1;32m      6\u001b[0m cursor\u001b[38;5;241m.\u001b[39mexecute(sql)\n",
      "File \u001b[0;32m/opt/homebrew/anaconda3/lib/python3.12/site-packages/pymysql/connections.py:361\u001b[0m, in \u001b[0;36mConnection.__init__\u001b[0;34m(self, user, password, host, database, unix_socket, port, charset, collation, sql_mode, read_default_file, conv, use_unicode, client_flag, cursorclass, init_command, connect_timeout, read_default_group, autocommit, local_infile, max_allowed_packet, defer_connect, auth_plugin_map, read_timeout, write_timeout, bind_address, binary_prefix, program_name, server_public_key, ssl, ssl_ca, ssl_cert, ssl_disabled, ssl_key, ssl_key_password, ssl_verify_cert, ssl_verify_identity, compress, named_pipe, passwd, db)\u001b[0m\n\u001b[1;32m    359\u001b[0m     \u001b[38;5;28mself\u001b[39m\u001b[38;5;241m.\u001b[39m_sock \u001b[38;5;241m=\u001b[39m \u001b[38;5;28;01mNone\u001b[39;00m\n\u001b[1;32m    360\u001b[0m \u001b[38;5;28;01melse\u001b[39;00m:\n\u001b[0;32m--> 361\u001b[0m     \u001b[38;5;28mself\u001b[39m\u001b[38;5;241m.\u001b[39mconnect()\n",
      "File \u001b[0;32m/opt/homebrew/anaconda3/lib/python3.12/site-packages/pymysql/connections.py:716\u001b[0m, in \u001b[0;36mConnection.connect\u001b[0;34m(self, sock)\u001b[0m\n\u001b[1;32m    714\u001b[0m     \u001b[38;5;28;01mif\u001b[39;00m DEBUG:\n\u001b[1;32m    715\u001b[0m         \u001b[38;5;28mprint\u001b[39m(exc\u001b[38;5;241m.\u001b[39mtraceback)\n\u001b[0;32m--> 716\u001b[0m     \u001b[38;5;28;01mraise\u001b[39;00m exc\n\u001b[1;32m    718\u001b[0m \u001b[38;5;66;03m# If e is neither DatabaseError or IOError, It's a bug.\u001b[39;00m\n\u001b[1;32m    719\u001b[0m \u001b[38;5;66;03m# But raising AssertionError hides original error.\u001b[39;00m\n\u001b[1;32m    720\u001b[0m \u001b[38;5;66;03m# So just reraise it.\u001b[39;00m\n\u001b[1;32m    721\u001b[0m \u001b[38;5;28;01mraise\u001b[39;00m\n",
      "\u001b[0;31mOperationalError\u001b[0m: (2003, \"Can't connect to MySQL server on 'localhost' ([Errno 61] Connection refused)\")"
     ]
    }
   ],
   "source": [
    "import pymysql\n",
    "\n",
    "db = pymysql.connect(host='localhost', port=3307, db='python_db',\\\n",
    "                    user='python',passwd='python',charset='utf8')\n",
    "cursor = db.cursor()\n",
    "cursor.execute(sql)\n",
    "db.commit()"
   ]
  },
  {
   "cell_type": "code",
   "execution_count": 3,
   "metadata": {},
   "outputs": [
    {
     "data": {
      "text/plain": [
       "0"
      ]
     },
     "execution_count": 3,
     "metadata": {},
     "output_type": "execute_result"
    }
   ],
   "source": [
    "cursor.execute('show tables')\n",
    "cursor.execute('drop table product')"
   ]
  },
  {
   "cell_type": "code",
   "execution_count": 4,
   "metadata": {},
   "outputs": [],
   "source": [
    "db.close()"
   ]
  },
  {
   "cell_type": "code",
   "execution_count": 5,
   "metadata": {},
   "outputs": [
    {
     "name": "stdout",
     "output_type": "stream",
     "text": [
      "insert into product (name,model_num,model_type) values (%s, %s, %s)\n",
      "insert into product (name,model_num,model_type) values (%s, %s, %s)\n",
      "insert into product (name,model_num,model_type) values (%s, %s, %s)\n",
      "insert into product (name,model_num,model_type) values (%s, %s, %s)\n",
      "insert into product (name,model_num,model_type) values (%s, %s, %s)\n",
      "insert into product (name,model_num,model_type) values (%s, %s, %s)\n",
      "insert into product (name,model_num,model_type) values (%s, %s, %s)\n",
      "insert into product (name,model_num,model_type) values (%s, %s, %s)\n",
      "insert into product (name,model_num,model_type) values (%s, %s, %s)\n",
      "insert into product (name,model_num,model_type) values (%s, %s, %s)\n",
      "10\n"
     ]
    }
   ],
   "source": [
    "import pymysql\n",
    "\n",
    "#db와 연결\n",
    "db = pymysql.connect(host='localhost', port=3307, db='python_db',\\\n",
    "                    user='python',passwd='python',charset='utf8')\n",
    "\n",
    "try:\n",
    "    #cursor 생성하고 cursor가 open되어 있는 query문을 여러개 실행\n",
    "    with db.cursor() as cursor:\n",
    "        #table drop하는 query 실행\n",
    "        #cursor.execute('drop table product')\n",
    "        #product table 생성 query실행\n",
    "        cursor.execute(sql)\n",
    "        #db에 실제로 적용한다\n",
    "        db.commit()\n",
    "        \n",
    "        for num in range(10,20): #10~19\n",
    "            name = 'S20'+str(num)\n",
    "            ins_sql = \\\n",
    "            'insert into product (name,model_num,model_type) values (%s, %s, %s)'\n",
    "            cursor.execute(ins_sql,(name,'7700','Phone'))\n",
    "            print(ins_sql)\n",
    "#             ins_sql = \"insert into product (name,model_num,model_type) \\\n",
    "#             values('\"+name+\"','7700','Phone')\"\n",
    "#             cursor.execute(ins_sql)\n",
    "            \n",
    "        db.commit()\n",
    "        print(cursor.lastrowid)\n",
    "except Exception as exp:\n",
    "    print(exp)\n",
    "    db.rollback()\n",
    "finally:\n",
    "    db.close()"
   ]
  },
  {
   "cell_type": "code",
   "execution_count": 15,
   "metadata": {},
   "outputs": [
    {
     "name": "stdout",
     "output_type": "stream",
     "text": [
      "<class 'tuple'> (3, 'S2012', '7700', '핸드폰') S2012\n",
      "0\n",
      "<class 'tuple'>\n",
      "1 S2010 7700 핸드폰\n",
      "2 S2011 7700 핸드폰\n",
      "3 S2012 7700 핸드폰\n",
      "4 S2013 7700 핸드폰\n",
      "5 S2014 7700 핸드폰\n",
      "6 S2015 7700 핸드폰\n",
      "7 S2016 7700 Phone\n",
      "8 S2017 7700 Phone\n",
      "9 S2018 7700 Phone\n",
      "10 S2019 7700 Phone\n",
      "('Phone', 4)\n",
      "('핸드폰', 6)\n"
     ]
    }
   ],
   "source": [
    "import pymysql\n",
    "\n",
    "db = pymysql.connect(host='localhost', port=3306, db='python_db',\\\n",
    "                    user='python',passwd='python',charset='utf8')\n",
    "\n",
    "try:\n",
    "    #select, update\n",
    "    with db.cursor() as cursor:\n",
    "        cursor.execute('select * from product where id=3')\n",
    "        result = cursor.fetchone()\n",
    "        print(type(result),result, result[1])\n",
    "        \n",
    "        upd_sql = \\\n",
    "        \"update product set model_type='%s' \\\n",
    "        where name between 'S2010' and 'S2015'\" % '핸드폰'\n",
    "        cursor.execute(upd_sql)\n",
    "        db.commit()\n",
    "        #갱신된 row 갯수\n",
    "        print(cursor.rowcount)\n",
    "        \n",
    "        cursor.execute('select * from product')\n",
    "        result_list = cursor.fetchall()\n",
    "        print(type(result_list))\n",
    "        for row in result_list:\n",
    "            print(row[0],row[1],row[2],row[3])\n",
    "            \n",
    "        # model_type별로 group by 하는 쿼리 실행 \n",
    "        cursor.execute('select model_type,count(*) from product group by model_type')\n",
    "        for row in cursor.fetchall():\n",
    "            print(row)\n",
    "finally:\n",
    "    db.close()"
   ]
  },
  {
   "cell_type": "code",
   "execution_count": 30,
   "metadata": {},
   "outputs": [
    {
     "name": "stdout",
     "output_type": "stream",
     "text": [
      "0\n",
      "7 S2016 7700 Phone\n",
      "8 S2017 7700 Phone\n",
      "9 S2018 7700 Phone\n",
      "10 S2019 7700 Phone\n"
     ]
    }
   ],
   "source": [
    "# delete 하고 select all\n",
    "#name 컬럼의 값이 's2014' 와 's2015' 인 행을 삭제하세요 sql의 in 구문을 사용하세요\n",
    "\n",
    "con = pymysql.connect(host='localhost', port=3306, db='python_db',\\\n",
    "                    user='python',passwd='python',charset='utf8')\n",
    "\n",
    "#print(type(con), con)\n",
    "\n",
    "try:\n",
    "    with con.cursor() as cursor:\n",
    "        sql = \"delete from product where name in (%s,%s)\"\n",
    "        cursor.execute(sql,('S2012','S2013'))\n",
    "        con.commit()\n",
    "        # 삭제된 건수 출력\n",
    "        print(cursor.rowcount)\n",
    "                \n",
    "        sql = \"select * from product order by id\"\n",
    "        cursor.execute(sql)\n",
    "        for row in cursor.fetchall():\n",
    "            print(row[0],row[1],row[2],row[3])\n",
    "            \n",
    "except Exception as ex:\n",
    "    con.rollback()\n",
    "    print(ex)\n",
    "finally:\n",
    "    con.close()"
   ]
  }
 ],
 "metadata": {
  "kernelspec": {
   "display_name": "Python 3 (ipykernel)",
   "language": "python",
   "name": "python3"
  },
  "language_info": {
   "codemirror_mode": {
    "name": "ipython",
    "version": 3
   },
   "file_extension": ".py",
   "mimetype": "text/x-python",
   "name": "python",
   "nbconvert_exporter": "python",
   "pygments_lexer": "ipython3",
   "version": "3.12.4"
  }
 },
 "nbformat": 4,
 "nbformat_minor": 4
}
